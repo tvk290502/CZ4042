{
 "cells": [
  {
   "cell_type": "code",
   "execution_count": 1,
   "metadata": {},
   "outputs": [],
   "source": [
    "import pandas as pd\n",
    "pd.set_option('display.max_colwidth', None)"
   ]
  },
  {
   "cell_type": "code",
   "execution_count": 2,
   "metadata": {},
   "outputs": [],
   "source": [
    "df = pd.read_csv('data/tweets.csv', usecols=['Text','Vader_Sentiment_Type'])"
   ]
  },
  {
   "cell_type": "code",
   "execution_count": 3,
   "metadata": {},
   "outputs": [],
   "source": [
    "df.dropna(inplace=True)"
   ]
  },
  {
   "cell_type": "code",
   "execution_count": 4,
   "metadata": {},
   "outputs": [],
   "source": [
    "df = df.drop_duplicates(subset=['Text'])"
   ]
  },
  {
   "cell_type": "code",
   "execution_count": 5,
   "metadata": {},
   "outputs": [
    {
     "data": {
      "text/plain": [
       "(19775, 2)"
      ]
     },
     "execution_count": 5,
     "metadata": {},
     "output_type": "execute_result"
    }
   ],
   "source": [
    "df.shape"
   ]
  },
  {
   "cell_type": "code",
   "execution_count": 6,
   "metadata": {},
   "outputs": [
    {
     "data": {
      "text/plain": [
       "['emoji',\n",
       " 'tok2vec',\n",
       " 'tagger',\n",
       " 'parser',\n",
       " 'attribute_ruler',\n",
       " 'lemmatizer',\n",
       " 'ner']"
      ]
     },
     "execution_count": 6,
     "metadata": {},
     "output_type": "execute_result"
    }
   ],
   "source": [
    "import spacy\n",
    "\n",
    "nlp = spacy.load(\"en_core_web_sm\")\n",
    "nlp.add_pipe(\"emoji\", first=True)\n",
    "nlp.pipe_names"
   ]
  },
  {
   "cell_type": "code",
   "execution_count": 7,
   "metadata": {},
   "outputs": [
    {
     "name": "stderr",
     "output_type": "stream",
     "text": [
      "100%|██████████| 19775/19775 [01:24<00:00, 233.79it/s]\n"
     ]
    }
   ],
   "source": [
    "from tqdm import tqdm\n",
    "\n",
    "docs = []\n",
    "for doc in tqdm(nlp.pipe(df.Text), total=len(df)):\n",
    "    docs.append(doc)"
   ]
  },
  {
   "cell_type": "code",
   "execution_count": 8,
   "metadata": {},
   "outputs": [],
   "source": [
    "def extract_tokens_plus_meta(doc:spacy.tokens.doc.Doc):\n",
    "    \"\"\"Extract tokens and metadata from individual spaCy doc.\"\"\"\n",
    "    return [\n",
    "        (i.text, i.i, i.lemma_, i.ent_type_, i.tag_, \n",
    "         i.dep_, i.pos_, i.is_stop, i.is_alpha, \n",
    "         i.is_digit, i.is_punct, i._.is_emoji) for i in doc\n",
    "    ]"
   ]
  },
  {
   "cell_type": "code",
   "execution_count": 9,
   "metadata": {},
   "outputs": [],
   "source": [
    "def tidy_tokens(docs):\n",
    "    \"\"\"Extract tokens and metadata from list of spaCy docs.\"\"\"\n",
    "    \n",
    "    cols = [\n",
    "        \"doc_id\", \"token\", \"token_order\", \"lemma\", \n",
    "        \"ent_type\", \"tag\", \"dep\", \"pos\", \"is_stop\", \n",
    "        \"is_alpha\", \"is_digit\", \"is_punct\", \"is_emoji\"\n",
    "    ]\n",
    "    \n",
    "    meta_df = []\n",
    "    for ix, doc in tqdm(enumerate(docs), total=len(docs)):\n",
    "        meta = extract_tokens_plus_meta(doc)\n",
    "        meta = pd.DataFrame(meta)\n",
    "        meta.columns = cols[1:]\n",
    "        meta = meta.assign(doc_id = ix).loc[:, cols]\n",
    "        meta_df.append(meta)\n",
    "        \n",
    "    return pd.concat(meta_df)  "
   ]
  },
  {
   "cell_type": "code",
   "execution_count": 10,
   "metadata": {},
   "outputs": [
    {
     "name": "stderr",
     "output_type": "stream",
     "text": [
      "100%|██████████| 19775/19775 [00:39<00:00, 501.04it/s]\n"
     ]
    }
   ],
   "source": [
    "tidy_docs = tidy_tokens(docs)"
   ]
  },
  {
   "cell_type": "code",
   "execution_count": 11,
   "metadata": {},
   "outputs": [
    {
     "data": {
      "text/html": [
       "<div>\n",
       "<style scoped>\n",
       "    .dataframe tbody tr th:only-of-type {\n",
       "        vertical-align: middle;\n",
       "    }\n",
       "\n",
       "    .dataframe tbody tr th {\n",
       "        vertical-align: top;\n",
       "    }\n",
       "\n",
       "    .dataframe thead th {\n",
       "        text-align: right;\n",
       "    }\n",
       "</style>\n",
       "<table border=\"1\" class=\"dataframe\">\n",
       "  <thead>\n",
       "    <tr style=\"text-align: right;\">\n",
       "      <th></th>\n",
       "      <th>doc_id</th>\n",
       "      <th>token</th>\n",
       "      <th>token_order</th>\n",
       "      <th>lemma</th>\n",
       "      <th>ent_type</th>\n",
       "      <th>tag</th>\n",
       "      <th>dep</th>\n",
       "      <th>pos</th>\n",
       "      <th>is_stop</th>\n",
       "      <th>is_alpha</th>\n",
       "      <th>is_digit</th>\n",
       "      <th>is_punct</th>\n",
       "      <th>is_emoji</th>\n",
       "    </tr>\n",
       "  </thead>\n",
       "  <tbody>\n",
       "    <tr>\n",
       "      <th>29</th>\n",
       "      <td>5</td>\n",
       "      <td>™</td>\n",
       "      <td>29</td>\n",
       "      <td>™</td>\n",
       "      <td></td>\n",
       "      <td>NNPS</td>\n",
       "      <td>npadvmod</td>\n",
       "      <td>PROPN</td>\n",
       "      <td>False</td>\n",
       "      <td>False</td>\n",
       "      <td>False</td>\n",
       "      <td>False</td>\n",
       "      <td>True</td>\n",
       "    </tr>\n",
       "    <tr>\n",
       "      <th>37</th>\n",
       "      <td>16</td>\n",
       "      <td>🙄</td>\n",
       "      <td>37</td>\n",
       "      <td>🙄</td>\n",
       "      <td></td>\n",
       "      <td>NN</td>\n",
       "      <td>dobj</td>\n",
       "      <td>NOUN</td>\n",
       "      <td>False</td>\n",
       "      <td>False</td>\n",
       "      <td>False</td>\n",
       "      <td>False</td>\n",
       "      <td>True</td>\n",
       "    </tr>\n",
       "    <tr>\n",
       "      <th>16</th>\n",
       "      <td>19</td>\n",
       "      <td>✅</td>\n",
       "      <td>16</td>\n",
       "      <td>✅</td>\n",
       "      <td></td>\n",
       "      <td>_SP</td>\n",
       "      <td>dep</td>\n",
       "      <td>SPACE</td>\n",
       "      <td>False</td>\n",
       "      <td>False</td>\n",
       "      <td>False</td>\n",
       "      <td>False</td>\n",
       "      <td>True</td>\n",
       "    </tr>\n",
       "    <tr>\n",
       "      <th>0</th>\n",
       "      <td>30</td>\n",
       "      <td>💗</td>\n",
       "      <td>0</td>\n",
       "      <td>💗</td>\n",
       "      <td></td>\n",
       "      <td>NNP</td>\n",
       "      <td>dep</td>\n",
       "      <td>PROPN</td>\n",
       "      <td>False</td>\n",
       "      <td>False</td>\n",
       "      <td>False</td>\n",
       "      <td>False</td>\n",
       "      <td>True</td>\n",
       "    </tr>\n",
       "    <tr>\n",
       "      <th>38</th>\n",
       "      <td>50</td>\n",
       "      <td>😢</td>\n",
       "      <td>38</td>\n",
       "      <td>😢</td>\n",
       "      <td></td>\n",
       "      <td>ADD</td>\n",
       "      <td>ROOT</td>\n",
       "      <td>X</td>\n",
       "      <td>False</td>\n",
       "      <td>False</td>\n",
       "      <td>False</td>\n",
       "      <td>False</td>\n",
       "      <td>True</td>\n",
       "    </tr>\n",
       "    <tr>\n",
       "      <th>...</th>\n",
       "      <td>...</td>\n",
       "      <td>...</td>\n",
       "      <td>...</td>\n",
       "      <td>...</td>\n",
       "      <td>...</td>\n",
       "      <td>...</td>\n",
       "      <td>...</td>\n",
       "      <td>...</td>\n",
       "      <td>...</td>\n",
       "      <td>...</td>\n",
       "      <td>...</td>\n",
       "      <td>...</td>\n",
       "      <td>...</td>\n",
       "    </tr>\n",
       "    <tr>\n",
       "      <th>51</th>\n",
       "      <td>19758</td>\n",
       "      <td>🏳️‍🌈</td>\n",
       "      <td>51</td>\n",
       "      <td>🏳️‍🌈</td>\n",
       "      <td>ORG</td>\n",
       "      <td>ADD</td>\n",
       "      <td>dep</td>\n",
       "      <td>X</td>\n",
       "      <td>False</td>\n",
       "      <td>False</td>\n",
       "      <td>False</td>\n",
       "      <td>False</td>\n",
       "      <td>True</td>\n",
       "    </tr>\n",
       "    <tr>\n",
       "      <th>52</th>\n",
       "      <td>19758</td>\n",
       "      <td>🏳️‍🌈</td>\n",
       "      <td>52</td>\n",
       "      <td>🏳️‍🌈</td>\n",
       "      <td>ORG</td>\n",
       "      <td>ADD</td>\n",
       "      <td>dep</td>\n",
       "      <td>X</td>\n",
       "      <td>False</td>\n",
       "      <td>False</td>\n",
       "      <td>False</td>\n",
       "      <td>False</td>\n",
       "      <td>True</td>\n",
       "    </tr>\n",
       "    <tr>\n",
       "      <th>53</th>\n",
       "      <td>19758</td>\n",
       "      <td>🏳️‍🌈</td>\n",
       "      <td>53</td>\n",
       "      <td>🏳️‍🌈</td>\n",
       "      <td>ORG</td>\n",
       "      <td>VBP</td>\n",
       "      <td>nmod</td>\n",
       "      <td>VERB</td>\n",
       "      <td>False</td>\n",
       "      <td>False</td>\n",
       "      <td>False</td>\n",
       "      <td>False</td>\n",
       "      <td>True</td>\n",
       "    </tr>\n",
       "    <tr>\n",
       "      <th>23</th>\n",
       "      <td>19769</td>\n",
       "      <td>🌈</td>\n",
       "      <td>23</td>\n",
       "      <td>🌈</td>\n",
       "      <td></td>\n",
       "      <td>NN</td>\n",
       "      <td>npadvmod</td>\n",
       "      <td>NOUN</td>\n",
       "      <td>False</td>\n",
       "      <td>False</td>\n",
       "      <td>False</td>\n",
       "      <td>False</td>\n",
       "      <td>True</td>\n",
       "    </tr>\n",
       "    <tr>\n",
       "      <th>40</th>\n",
       "      <td>19769</td>\n",
       "      <td>➡️</td>\n",
       "      <td>40</td>\n",
       "      <td>➡️</td>\n",
       "      <td>ORG</td>\n",
       "      <td>VBP</td>\n",
       "      <td>ccomp</td>\n",
       "      <td>VERB</td>\n",
       "      <td>False</td>\n",
       "      <td>False</td>\n",
       "      <td>False</td>\n",
       "      <td>False</td>\n",
       "      <td>True</td>\n",
       "    </tr>\n",
       "  </tbody>\n",
       "</table>\n",
       "<p>6007 rows × 13 columns</p>\n",
       "</div>"
      ],
      "text/plain": [
       "    doc_id token  token_order lemma ent_type   tag       dep    pos  is_stop  \\\n",
       "29       5     ™           29     ™           NNPS  npadvmod  PROPN    False   \n",
       "37      16     🙄           37     🙄             NN      dobj   NOUN    False   \n",
       "16      19     ✅           16     ✅            _SP       dep  SPACE    False   \n",
       "0       30     💗            0     💗            NNP       dep  PROPN    False   \n",
       "38      50     😢           38     😢            ADD      ROOT      X    False   \n",
       "..     ...   ...          ...   ...      ...   ...       ...    ...      ...   \n",
       "51   19758  🏳️‍🌈           51  🏳️‍🌈      ORG   ADD       dep      X    False   \n",
       "52   19758  🏳️‍🌈           52  🏳️‍🌈      ORG   ADD       dep      X    False   \n",
       "53   19758  🏳️‍🌈           53  🏳️‍🌈      ORG   VBP      nmod   VERB    False   \n",
       "23   19769     🌈           23     🌈             NN  npadvmod   NOUN    False   \n",
       "40   19769    ➡️           40    ➡️      ORG   VBP     ccomp   VERB    False   \n",
       "\n",
       "    is_alpha  is_digit  is_punct  is_emoji  \n",
       "29     False     False     False      True  \n",
       "37     False     False     False      True  \n",
       "16     False     False     False      True  \n",
       "0      False     False     False      True  \n",
       "38     False     False     False      True  \n",
       "..       ...       ...       ...       ...  \n",
       "51     False     False     False      True  \n",
       "52     False     False     False      True  \n",
       "53     False     False     False      True  \n",
       "23     False     False     False      True  \n",
       "40     False     False     False      True  \n",
       "\n",
       "[6007 rows x 13 columns]"
      ]
     },
     "execution_count": 11,
     "metadata": {},
     "output_type": "execute_result"
    }
   ],
   "source": [
    "tidy_docs.query(\"is_emoji == True\")"
   ]
  },
  {
   "cell_type": "code",
   "execution_count": 12,
   "metadata": {},
   "outputs": [
    {
     "data": {
      "text/plain": [
       "ORG            21462\n",
       "PERSON         16156\n",
       "MONEY          13066\n",
       "GPE             5187\n",
       "DATE            4811\n",
       "NORP            4344\n",
       "CARDINAL        3736\n",
       "WORK_OF_ART     1685\n",
       "PRODUCT         1007\n",
       "PERCENT          823\n",
       "TIME             679\n",
       "LAW              569\n",
       "LOC              568\n",
       "ORDINAL          501\n",
       "FAC              448\n",
       "EVENT            381\n",
       "QUANTITY         124\n",
       "LANGUAGE          35\n",
       "Name: ent_type, dtype: int64"
      ]
     },
     "execution_count": 12,
     "metadata": {},
     "output_type": "execute_result"
    }
   ],
   "source": [
    "tidy_docs.query(\"ent_type != ''\").ent_type.value_counts()"
   ]
  },
  {
   "cell_type": "code",
   "execution_count": 13,
   "metadata": {},
   "outputs": [
    {
     "data": {
      "text/plain": [
       "(array([    0.,  2000.,  4000.,  6000.,  8000., 10000.]),\n",
       " [Text(0.0, 0, '0'),\n",
       "  Text(2000.0, 0, '2000'),\n",
       "  Text(4000.0, 0, '4000'),\n",
       "  Text(6000.0, 0, '6000'),\n",
       "  Text(8000.0, 0, '8000'),\n",
       "  Text(10000.0, 0, '10000')])"
      ]
     },
     "execution_count": 13,
     "metadata": {},
     "output_type": "execute_result"
    },
    {
     "data": {
      "image/png": "[encoded data removed]",
      "text/plain": [
       "<Figure size 1728x1008 with 1 Axes>"
      ]
     },
     "metadata": {
      "needs_background": "light"
     },
     "output_type": "display_data"
    }
   ],
   "source": [
    "import matplotlib.pyplot as plt \n",
    "\n",
    "tidy_docs.query(\"ent_type != '' & pos != 'SPACE' & is_stop == False & \\\n",
    "is_punct == False & is_emoji == False & is_digit == False & is_alpha == True\").lemma.value_counts().head(30).plot(kind=\"barh\", figsize=(24, 14), alpha=.7)\n",
    "plt.yticks(fontsize=20)\n",
    "plt.xticks(fontsize=20)"
   ]
  },
  {
   "cell_type": "code",
   "execution_count": null,
   "metadata": {},
   "outputs": [],
   "source": []
  }
 ],
 "metadata": {
  "kernelspec": {
   "display_name": "pytorch",
   "language": "python",
   "name": "pytorch"
  },
  "language_info": {
   "codemirror_mode": {
    "name": "ipython",
    "version": 3
   },
   "file_extension": ".py",
   "mimetype": "text/x-python",
   "name": "python",
   "nbconvert_exporter": "python",
   "pygments_lexer": "ipython3",
   "version": "3.10.4"
  },
  "orig_nbformat": 4
 },
 "nbformat": 4,
 "nbformat_minor": 2
}
